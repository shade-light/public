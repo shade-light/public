{
 "cells": [
  {
   "cell_type": "markdown",
   "metadata": {},
   "source": [
    "### 문자열 내장함수(#3)\n",
    "#### 문자열 내장함수(#4)\n",
    "## 문자열 내장함수(#2)\n",
    "# 문자열 내장함수(#1)"
   ]
  },
  {
   "cell_type": "code",
   "execution_count": 3,
   "metadata": {},
   "outputs": [
    {
     "name": "stdout",
     "output_type": "stream",
     "text": [
      "HELLO WORLD\n",
      "hello world\n",
      "hELLO WORLD\n",
      "Hello World\n"
     ]
    }
   ],
   "source": [
    "# 문자열을 대, 소문자 변경\n",
    "\n",
    "a_text = \"Hello world\"\n",
    "\n",
    "# upper() : 모든 문자열을 대문자로 변경\n",
    "print(a_text.upper())\n",
    "# lower() : 모든 문자열을 소문자로 변경\n",
    "print(a_text.lower())\n",
    "# swapcase() : 대문자를 소문자로 소문자를 대문자로 변경\n",
    "print(a_text.swapcase())\n",
    "# title() : 단어의 첫글자를 대문자로 변경\n",
    "print(a_text.title())"
   ]
  },
  {
   "cell_type": "code",
   "execution_count": 4,
   "metadata": {},
   "outputs": [
    {
     "name": "stdout",
     "output_type": "stream",
     "text": [
      " Hello world \n"
     ]
    }
   ],
   "source": [
    "# 공백을 제거하는 함수\n",
    "# strip() : 문자열의 좌우의 공백을 제거\n",
    "# lstrip() : 문자열 좌측의 공백을 제거\n",
    "# rstrip() : 문자열 우측의 공백을 제거\n",
    "b_text = \" Hello world \"\n",
    "print(b_text)"
   ]
  },
  {
   "cell_type": "code",
   "execution_count": 5,
   "metadata": {},
   "outputs": [
    {
     "data": {
      "text/plain": [
       "' Hello world '"
      ]
     },
     "execution_count": 5,
     "metadata": {},
     "output_type": "execute_result"
    }
   ],
   "source": [
    "b_text"
   ]
  },
  {
   "cell_type": "code",
   "execution_count": 6,
   "metadata": {},
   "outputs": [
    {
     "data": {
      "text/plain": [
       "'Hello world'"
      ]
     },
     "execution_count": 6,
     "metadata": {},
     "output_type": "execute_result"
    }
   ],
   "source": [
    "# 좌우의 공백을 제거\n",
    "b_text.strip()"
   ]
  },
  {
   "cell_type": "code",
   "execution_count": 7,
   "metadata": {},
   "outputs": [
    {
     "data": {
      "text/plain": [
       "'Hello world '"
      ]
     },
     "execution_count": 7,
     "metadata": {},
     "output_type": "execute_result"
    }
   ],
   "source": [
    "# 좌측의 공백을 제거\n",
    "b_text.lstrip()\n"
   ]
  },
  {
   "cell_type": "code",
   "execution_count": 8,
   "metadata": {},
   "outputs": [
    {
     "data": {
      "text/plain": [
       "' Hello world'"
      ]
     },
     "execution_count": 8,
     "metadata": {},
     "output_type": "execute_result"
    }
   ],
   "source": [
    "# 우측의 공백을 제거\n",
    "b_text.rstrip()"
   ]
  },
  {
   "cell_type": "code",
   "execution_count": 9,
   "metadata": {},
   "outputs": [
    {
     "name": "stdout",
     "output_type": "stream",
     "text": [
      "$$Hello%%\n"
     ]
    }
   ],
   "source": [
    "c_text = \"$$Hello%%\"\n",
    "print(c_text)"
   ]
  },
  {
   "cell_type": "code",
   "execution_count": 10,
   "metadata": {},
   "outputs": [
    {
     "data": {
      "text/plain": [
       "'Hello%%'"
      ]
     },
     "execution_count": 10,
     "metadata": {},
     "output_type": "execute_result"
    }
   ],
   "source": [
    "# 좌측의 $를 제거\n",
    "c_text.lstrip('$')"
   ]
  },
  {
   "cell_type": "code",
   "execution_count": 12,
   "metadata": {},
   "outputs": [
    {
     "data": {
      "text/plain": [
       "'$$Hello'"
      ]
     },
     "execution_count": 12,
     "metadata": {},
     "output_type": "execute_result"
    }
   ],
   "source": [
    "# 우측의 %를 제거\n",
    "c_text.rstrip('%')"
   ]
  },
  {
   "cell_type": "code",
   "execution_count": 16,
   "metadata": {},
   "outputs": [
    {
     "data": {
      "text/plain": [
       "'H1 World'"
      ]
     },
     "execution_count": 16,
     "metadata": {},
     "output_type": "execute_result"
    }
   ],
   "source": [
    "# replace({치환을 할 문자열}, {치환이 될 문자열})\n",
    "c_text = 'Hello World'\n",
    "c_text.replace('Hello', 'H1')"
   ]
  },
  {
   "cell_type": "code",
   "execution_count": 17,
   "metadata": {},
   "outputs": [
    {
     "data": {
      "text/plain": [
       "' Hello World '"
      ]
     },
     "execution_count": 17,
     "metadata": {},
     "output_type": "execute_result"
    }
   ],
   "source": [
    "# replace()함수를 이용하여 문자열의 공백을 제거\n",
    "d_text = \" Hello World \"\n",
    "d_text"
   ]
  },
  {
   "cell_type": "code",
   "execution_count": 18,
   "metadata": {},
   "outputs": [
    {
     "data": {
      "text/plain": [
       "'HelloWorld'"
      ]
     },
     "execution_count": 18,
     "metadata": {},
     "output_type": "execute_result"
    }
   ],
   "source": [
    "d_text.replace(\" \", \"\")"
   ]
  },
  {
   "cell_type": "code",
   "execution_count": 19,
   "metadata": {},
   "outputs": [
    {
     "data": {
      "text/plain": [
       "['a', 'b', 'c', 'd']"
      ]
     },
     "execution_count": 19,
     "metadata": {},
     "output_type": "execute_result"
    }
   ],
   "source": [
    "# split() : 특정한 문자열을 이용하여 문자열을 나눠주는 함수\n",
    "e_text = \"a,b,c,d\"\n",
    "e_text.split(',')"
   ]
  },
  {
   "cell_type": "code",
   "execution_count": 20,
   "metadata": {},
   "outputs": [
    {
     "data": {
      "text/plain": [
       "['a', 'b', 'c', 'd']"
      ]
     },
     "execution_count": 20,
     "metadata": {},
     "output_type": "execute_result"
    }
   ],
   "source": [
    "f_text = 'a/b/c/d'\n",
    "f_text.split('/')"
   ]
  },
  {
   "cell_type": "code",
   "execution_count": 21,
   "metadata": {},
   "outputs": [
    {
     "data": {
      "text/plain": [
       "-1"
      ]
     },
     "execution_count": 21,
     "metadata": {},
     "output_type": "execute_result"
    }
   ],
   "source": [
    "a = 'Hello'\n",
    "a.find('b')"
   ]
  },
  {
   "cell_type": "markdown",
   "metadata": {},
   "source": [
    "### 함수\n",
    "어떠한 입력값을 가지고 작업을 실행하고 결과물을 출력한다."
   ]
  },
  {
   "cell_type": "code",
   "execution_count": 22,
   "metadata": {},
   "outputs": [],
   "source": [
    "# 매개변수가 존재하지 않는 함수를 생성\n",
    "# 매개변수가 존재하지 않으면 함수를 동일한 행동을 반복\n",
    "def func_1():\n",
    "    result = \"Hello\"\n",
    "    return result"
   ]
  },
  {
   "cell_type": "code",
   "execution_count": 23,
   "metadata": {},
   "outputs": [
    {
     "name": "stdout",
     "output_type": "stream",
     "text": [
      "Hello\n",
      "Hello\n",
      "Hello\n"
     ]
    }
   ],
   "source": [
    "print(func_1())\n",
    "print(func_1())\n",
    "print(func_1())\n"
   ]
  },
  {
   "cell_type": "code",
   "execution_count": 26,
   "metadata": {},
   "outputs": [],
   "source": [
    "# 매개변수가 존재하는 함수를 생성\n",
    "def func_2(a, b):\n",
    "    result = a + b\n",
    "    return result"
   ]
  },
  {
   "cell_type": "code",
   "execution_count": 27,
   "metadata": {},
   "outputs": [
    {
     "name": "stdout",
     "output_type": "stream",
     "text": [
      "9\n",
      "3\n"
     ]
    }
   ],
   "source": [
    "# 매개변수가 2개인 함수를 호출 -> 해당하는 함수를 호출을 할때는 인자의 개수가 2개\n",
    "print(func_2(4, 5)) # 9\n",
    "print(func_2(1, 2)) # 3"
   ]
  },
  {
   "cell_type": "code",
   "execution_count": 28,
   "metadata": {},
   "outputs": [
    {
     "ename": "TypeError",
     "evalue": "func_2() missing 1 required positional argument: 'b'",
     "output_type": "error",
     "traceback": [
      "\u001b[1;31m---------------------------------------------------------------------------\u001b[0m",
      "\u001b[1;31mTypeError\u001b[0m                                 Traceback (most recent call last)",
      "\u001b[1;32md:\\python\\240120\\240120.ipynb 셀 22\u001b[0m line \u001b[0;36m3\n\u001b[0;32m      <a href='vscode-notebook-cell:/d%3A/python/240120/240120.ipynb#X45sZmlsZQ%3D%3D?line=0'>1</a>\u001b[0m \u001b[39m# error code\u001b[39;00m\n\u001b[0;32m      <a href='vscode-notebook-cell:/d%3A/python/240120/240120.ipynb#X45sZmlsZQ%3D%3D?line=1'>2</a>\u001b[0m \u001b[39m# 매개변수의 개수와 인자의 개수를 다르게 호출하는 경우\u001b[39;00m\n\u001b[1;32m----> <a href='vscode-notebook-cell:/d%3A/python/240120/240120.ipynb#X45sZmlsZQ%3D%3D?line=2'>3</a>\u001b[0m \u001b[39mprint\u001b[39m(func_2(\u001b[39m5\u001b[39;49m))\n",
      "\u001b[1;31mTypeError\u001b[0m: func_2() missing 1 required positional argument: 'b'"
     ]
    }
   ],
   "source": [
    "# error code\n",
    "# 매개변수의 개수와 인자의 개수를 다르게 호출하는 경우\n",
    "print(func_2(5))"
   ]
  },
  {
   "cell_type": "code",
   "execution_count": 29,
   "metadata": {},
   "outputs": [],
   "source": [
    "# 함수를 생성할 때 매개변수에 기본값을 지정\n",
    "def func_3(a, b = 2):\n",
    "    result = a ** b\n",
    "    return result"
   ]
  },
  {
   "cell_type": "code",
   "execution_count": 30,
   "metadata": {},
   "outputs": [
    {
     "name": "stdout",
     "output_type": "stream",
     "text": [
      "125\n",
      "64\n"
     ]
    }
   ],
   "source": [
    "print(func_3(5, 3))  # 125\n",
    "print(func_3(8)) # 64"
   ]
  },
  {
   "cell_type": "code",
   "execution_count": 32,
   "metadata": {},
   "outputs": [],
   "source": [
    "def func_4(input_x, input_y):\n",
    "    result = input_x - input_y\n",
    "    return result"
   ]
  },
  {
   "cell_type": "code",
   "execution_count": 35,
   "metadata": {},
   "outputs": [
    {
     "name": "stdout",
     "output_type": "stream",
     "text": [
      "7\n",
      "-7\n"
     ]
    }
   ],
   "source": [
    "print(func_4(10, 3))  # 7\n",
    "print(func_4(input_y = 10, input_x = 3))  # -7"
   ]
  },
  {
   "cell_type": "code",
   "execution_count": 40,
   "metadata": {},
   "outputs": [],
   "source": [
    "# 함수 생성\n",
    "# 매개변수는 2개 -> start, end\n",
    "# start부터 시작해서 end까지의 누적합을 출력\n",
    "# start의 기본값은 1, end의 기본값은 10\n",
    "def func_5(start = 1, end = 10):\n",
    "    # 합계라는 초기 값은 0으로 지정\n",
    "    result = 0\n",
    "    \n",
    "    # start부터 end까지 반복을 하는 반복문을 생성\n",
    "    for i in range(start, end+1, 1):\n",
    "        # result = result + 1\n",
    "        result += i\n",
    "        # for문 종료 후\n",
    "        return result"
   ]
  },
  {
   "cell_type": "code",
   "execution_count": 42,
   "metadata": {},
   "outputs": [
    {
     "name": "stdout",
     "output_type": "stream",
     "text": [
      "1\n"
     ]
    }
   ],
   "source": [
    "print(func_5())\n",
    "# start = 1, end = 10, result = 0\n",
    "# for i in range(1, 11, 1):\n",
    "#   result = result + i  --> result = 0 + 1\n",
    "#   return result --> result를 되돌려주고 함수를 종료"
   ]
  },
  {
   "cell_type": "code",
   "execution_count": 47,
   "metadata": {},
   "outputs": [],
   "source": [
    "def func_6(start = 1, end = 10):\n",
    "    # 합계라는 초기 값은 0으로 지정\n",
    "    result = 0\n",
    "    \n",
    "    # start부터 end까지 반복을 하는 반복문을 생성\n",
    "    for i in range(start, end+1, 1):\n",
    "        # result = result + 1\n",
    "        result += i\n",
    "    # for문 종료 후\n",
    "    return result"
   ]
  },
  {
   "cell_type": "code",
   "execution_count": 48,
   "metadata": {},
   "outputs": [
    {
     "name": "stdout",
     "output_type": "stream",
     "text": [
      "55\n"
     ]
    }
   ],
   "source": [
    "print(func_6())\n",
    "# start = 1, end =10, result = 0\n",
    "# for i in range(1, 11, 1):\n",
    "#   result = result + i --> result = 0 + 1\n",
    "#   result = result + i --> result = 1 + 2\n",
    "# ....\n",
    "#   result = result + i --> result = 36 + 9\n",
    "#   result = result + i --> result = 45 + 10\n",
    "# return result"
   ]
  },
  {
   "cell_type": "code",
   "execution_count": 49,
   "metadata": {},
   "outputs": [
    {
     "name": "stdout",
     "output_type": "stream",
     "text": [
      "5050\n"
     ]
    }
   ],
   "source": [
    "print(func_6(end=100))"
   ]
  },
  {
   "cell_type": "code",
   "execution_count": 50,
   "metadata": {},
   "outputs": [
    {
     "name": "stdout",
     "output_type": "stream",
     "text": [
      "1\n",
      "1\n",
      "2\n",
      "3\n",
      "3\n",
      "6\n",
      "4\n",
      "10\n",
      "5\n",
      "15\n",
      "6\n",
      "21\n",
      "7\n",
      "28\n",
      "8\n",
      "36\n",
      "9\n",
      "45\n",
      "10\n",
      "55\n",
      "11\n",
      "66\n",
      "12\n",
      "78\n",
      "13\n",
      "91\n",
      "14\n",
      "105\n",
      "15\n",
      "120\n",
      "16\n",
      "136\n",
      "17\n",
      "153\n",
      "18\n",
      "171\n",
      "19\n",
      "190\n",
      "20\n",
      "210\n",
      "21\n",
      "231\n",
      "22\n",
      "253\n",
      "23\n",
      "276\n",
      "24\n",
      "300\n",
      "25\n",
      "325\n",
      "26\n",
      "351\n",
      "27\n",
      "378\n",
      "28\n",
      "406\n",
      "29\n",
      "435\n",
      "30\n",
      "465\n",
      "31\n",
      "496\n",
      "32\n",
      "528\n",
      "33\n",
      "561\n",
      "34\n",
      "595\n",
      "35\n",
      "630\n",
      "36\n",
      "666\n",
      "37\n",
      "703\n",
      "38\n",
      "741\n",
      "39\n",
      "780\n",
      "40\n",
      "820\n",
      "41\n",
      "861\n",
      "42\n",
      "903\n",
      "43\n",
      "946\n",
      "44\n",
      "990\n",
      "45\n",
      "1035\n",
      "46\n",
      "1081\n",
      "47\n",
      "1128\n",
      "48\n",
      "1176\n",
      "49\n",
      "1225\n",
      "50\n",
      "1275\n",
      "51\n",
      "1326\n",
      "52\n",
      "1378\n",
      "53\n",
      "1431\n",
      "54\n",
      "1485\n",
      "55\n",
      "1540\n",
      "56\n",
      "1596\n",
      "57\n",
      "1653\n",
      "58\n",
      "1711\n",
      "59\n",
      "1770\n",
      "60\n",
      "1830\n",
      "61\n",
      "1891\n",
      "62\n",
      "1953\n",
      "63\n",
      "2016\n",
      "64\n",
      "2080\n",
      "65\n",
      "2145\n",
      "66\n",
      "2211\n",
      "67\n",
      "2278\n",
      "68\n",
      "2346\n",
      "69\n",
      "2415\n",
      "70\n",
      "2485\n",
      "71\n",
      "2556\n",
      "72\n",
      "2628\n",
      "73\n",
      "2701\n",
      "74\n",
      "2775\n",
      "75\n",
      "2850\n",
      "76\n",
      "2926\n"
     ]
    }
   ],
   "source": [
    "# 1부터 100까지의 누적합 도중 합계가 3000이 넘어가는 최초의 숫자는 몇일까?\n",
    "\n",
    "# 합계 초기값을 지정 0\n",
    "sum_result = 0\n",
    "\n",
    "for i in range(1, 101, 1):\n",
    "    sum_result += i\n",
    "    # 합계가 3000보다 큰 경우\n",
    "    if sum_result > 3000:\n",
    "        break\n",
    "    print(i)\n",
    "    print(sum_result)\n"
   ]
  },
  {
   "cell_type": "code",
   "execution_count": 51,
   "metadata": {},
   "outputs": [
    {
     "name": "stdout",
     "output_type": "stream",
     "text": [
      "173\n",
      "15051\n"
     ]
    }
   ],
   "source": [
    "# 1부터 1씩 증가시켜서 누적합이 15000이 되는 순간이 숫자가 몇인가?\n",
    "sum_result = 0\n",
    "\n",
    "for i in range(1, 500, 1):\n",
    "    sum_result += i\n",
    "    if sum_result > 15000 :\n",
    "        break\n",
    "    \n",
    "print((i))\n",
    "print(sum_result)\n"
   ]
  },
  {
   "cell_type": "code",
   "execution_count": 53,
   "metadata": {},
   "outputs": [
    {
     "name": "stdout",
     "output_type": "stream",
     "text": [
      "548\n",
      "150426\n"
     ]
    }
   ],
   "source": [
    "i = 1\n",
    "sum_result = 0\n",
    "\n",
    "while True:\n",
    "    sum_result += i\n",
    "    if sum_result > 150000:\n",
    "        break\n",
    "    i += 1\n",
    "print(i)\n",
    "print(sum_result)"
   ]
  },
  {
   "cell_type": "code",
   "execution_count": 60,
   "metadata": {},
   "outputs": [],
   "source": [
    "# 함수 생성\n",
    "# 매개변수 2개 생성\n",
    "# 매개변수 사이의 값들의 누적합을 출력하는 함수\n",
    "def func_7(x, y):\n",
    "    # 합계 초기 값은 0으로 지정\n",
    "    result = 0\n",
    "    # x보다 y가 큰 경우 (ex. x가 1이고 y가 10 -> 1부터 10까지의 누적합)\n",
    "    if x < y: \n",
    "        for i in range(x, y+1, 1):\n",
    "            result += i\n",
    "    # x보다 y가 작거나 같은 경우\n",
    "    else:\n",
    "        for i in range(y, x+1, 1):\n",
    "            result += i\n",
    "            \n",
    "    return result"
   ]
  },
  {
   "cell_type": "code",
   "execution_count": 61,
   "metadata": {},
   "outputs": [
    {
     "name": "stdout",
     "output_type": "stream",
     "text": [
      "55\n"
     ]
    }
   ],
   "source": [
    "print(func_7(1, 10))"
   ]
  },
  {
   "cell_type": "code",
   "execution_count": 62,
   "metadata": {},
   "outputs": [
    {
     "name": "stdout",
     "output_type": "stream",
     "text": [
      "5\n"
     ]
    }
   ],
   "source": [
    "print(func_7(5, 5))"
   ]
  },
  {
   "cell_type": "code",
   "execution_count": 69,
   "metadata": {},
   "outputs": [],
   "source": [
    "def func_8(x, y):\n",
    "    result = 0\n",
    "    \n",
    "    # 시작값이 x와 y중 작은 값\n",
    "    # 종료값은 x와 y중 큰 값에 + 1\n",
    "    # 숫자 데이터들 중 가장 작은 데이터를 출력하는 함수 : min()\n",
    "    # 숫자 데이터들 중 가장 큰 데이터를 출력하는 함수 : max()\n",
    "    for i in range(min(x,y), max(x,y)+1, 1):\n",
    "        result += i\n",
    "    return result\n"
   ]
  },
  {
   "cell_type": "code",
   "execution_count": 70,
   "metadata": {},
   "outputs": [
    {
     "name": "stdout",
     "output_type": "stream",
     "text": [
      "55\n",
      "55\n",
      "5\n"
     ]
    }
   ],
   "source": [
    "print(func_8(1, 10))\n",
    "print(func_8(10, 1))\n",
    "print(func_8(5, 5))"
   ]
  },
  {
   "cell_type": "code",
   "execution_count": 80,
   "metadata": {},
   "outputs": [
    {
     "data": {
      "text/plain": [
       "1"
      ]
     },
     "execution_count": 80,
     "metadata": {},
     "output_type": "execute_result"
    }
   ],
   "source": [
    "min(3, 10, 1)"
   ]
  },
  {
   "cell_type": "code",
   "execution_count": 85,
   "metadata": {},
   "outputs": [],
   "source": [
    "# 인자의 개수가 가변인 경우의 함수를 생성\n",
    "def func_9(*args):\n",
    "    # print(type(args))\n",
    "    # print(args)\n",
    "    # print(len(args))\n",
    "    # 인자값들 중 첫번째 데이터를 변수에 대입\n",
    "    result = args[0]\n",
    "    # 인자 값들 중 두번째 데이터부터 반복을 하는 반복문 생성\n",
    "    for i in range(1, len(args), 1):\n",
    "        # result와 args[i] 항목을 비교\n",
    "        if result > args[i]:\n",
    "            result = args[i]\n",
    "    return result\n",
    "\n",
    "# args = (50, 49, 55, 42)\n",
    "# result = 50\n",
    "# for문에서 3번 반복 (시작값 1, 종료값 4, 증가값 1)\n",
    "# result > args[1] ( 50 > 49 ) --> True\n",
    "#  result = args[1]  ( result = 49 )\n",
    "# result > args[2] ( 49 > 55 ) --> False\n",
    "#   아무 행동도 하지 않는다. ( reesult = 49)\n",
    "# result > args[3] ( 49 > 42 )  --> True\n",
    "# result = args[3] ( result = 42 )\n",
    "# for문이 종료\n",
    "# return resulr (return 42)"
   ]
  },
  {
   "cell_type": "code",
   "execution_count": 86,
   "metadata": {},
   "outputs": [
    {
     "data": {
      "text/plain": [
       "1"
      ]
     },
     "execution_count": 86,
     "metadata": {},
     "output_type": "execute_result"
    }
   ],
   "source": [
    "func_9(1,2,3,4,5)\n",
    "func_9(2,4,6,8)\n",
    "func_9(1,2,3,4,5,6,7,8,9,10)"
   ]
  },
  {
   "cell_type": "code",
   "execution_count": 87,
   "metadata": {},
   "outputs": [
    {
     "name": "stdout",
     "output_type": "stream",
     "text": [
      "42\n"
     ]
    }
   ],
   "source": [
    "print(func_9(50, 49, 55, 42))"
   ]
  },
  {
   "cell_type": "markdown",
   "metadata": {},
   "source": [
    "### 예재문제\n",
    "1. 함수를 생성 -> 인자의 개수를 가변\n",
    "2. 인자값의 평균 값을 출력을 하는 함수\n",
    "    1. 모든 인자값들을 더한다.\n",
    "    2. 더한 데이터를 인자의 개수로 나눠준다.\n",
    "    3. 나온 결과값을 되돌려준다."
   ]
  },
  {
   "cell_type": "code",
   "execution_count": 98,
   "metadata": {},
   "outputs": [],
   "source": [
    "def func_10(*a):\n",
    "    # *표시는 인자값이 여러개 들어 온다(가변으로) 적용\n",
    "    \n",
    "    \n",
    "    #case1\n",
    "    # # 모든 인자값을 더한다. (합계라는 초기값 0)\n",
    "    result = 0\n",
    "    # for i in range(0, len(a), 1):\n",
    "    # # i의 의미는 자료형 데이터의 위치\n",
    "    # result = result + a[i]\n",
    "    # case2\n",
    "    for i in a:\n",
    "    # i의 의미는 자료형 데이터의 각 원소의 값\n",
    "    result += i\n",
    "    # case3\n",
    "    # result = sum(a)\n",
    "    \n",
    "    \n",
    "    # 합계 인자의 개수만큼 나눠준다.\n",
    "    result /= len(a)\n",
    "    # 결과값을 되돌려준다.\n",
    "    return result"
   ]
  },
  {
   "cell_type": "code",
   "execution_count": 106,
   "metadata": {},
   "outputs": [
    {
     "data": {
      "text/plain": [
       "5.5"
      ]
     },
     "execution_count": 106,
     "metadata": {},
     "output_type": "execute_result"
    }
   ],
   "source": [
    "func_10(1,2,3,4,5,6,7,8,9,10)"
   ]
  },
  {
   "cell_type": "code",
   "execution_count": 108,
   "metadata": {},
   "outputs": [
    {
     "name": "stdout",
     "output_type": "stream",
     "text": [
      "5.5\n"
     ]
    }
   ],
   "source": [
    "print(func_10(1,2,3,4,5,6,7,8,9,10))"
   ]
  },
  {
   "cell_type": "code",
   "execution_count": 123,
   "metadata": {},
   "outputs": [],
   "source": [
    "def func_11(*a):\n",
    "    result = 0\n",
    "    for i in range(0, len(a), 1):\n",
    "        result = result + a[i]\n",
    "        result /= len(a)\n",
    "    return result "
   ]
  },
  {
   "cell_type": "code",
   "execution_count": 124,
   "metadata": {},
   "outputs": [
    {
     "data": {
      "text/plain": [
       "1.0987654321"
      ]
     },
     "execution_count": 124,
     "metadata": {},
     "output_type": "execute_result"
    }
   ],
   "source": [
    "func_11(1,2,3,4,5,6,7,8,9,10)"
   ]
  },
  {
   "cell_type": "code",
   "execution_count": 132,
   "metadata": {},
   "outputs": [],
   "source": [
    "def func_12(*a):\n",
    "    for i in a:\n",
    "        result += i\n",
    "        result /= len(a)\n",
    "    return result "
   ]
  },
  {
   "cell_type": "code",
   "execution_count": 133,
   "metadata": {},
   "outputs": [
    {
     "ename": "UnboundLocalError",
     "evalue": "cannot access local variable 'result' where it is not associated with a value",
     "output_type": "error",
     "traceback": [
      "\u001b[1;31m---------------------------------------------------------------------------\u001b[0m",
      "\u001b[1;31mUnboundLocalError\u001b[0m                         Traceback (most recent call last)",
      "\u001b[1;32md:\\python\\240120\\240120.ipynb 셀 51\u001b[0m line \u001b[0;36m1\n\u001b[1;32m----> <a href='vscode-notebook-cell:/d%3A/python/240120/240120.ipynb#Y136sZmlsZQ%3D%3D?line=0'>1</a>\u001b[0m func_12(\u001b[39m1\u001b[39;49m,\u001b[39m2\u001b[39;49m,\u001b[39m3\u001b[39;49m,\u001b[39m4\u001b[39;49m,\u001b[39m5\u001b[39;49m,\u001b[39m6\u001b[39;49m,\u001b[39m7\u001b[39;49m,\u001b[39m8\u001b[39;49m,\u001b[39m9\u001b[39;49m,\u001b[39m10\u001b[39;49m)\n",
      "\u001b[1;32md:\\python\\240120\\240120.ipynb 셀 51\u001b[0m line \u001b[0;36m3\n\u001b[0;32m      <a href='vscode-notebook-cell:/d%3A/python/240120/240120.ipynb#Y136sZmlsZQ%3D%3D?line=0'>1</a>\u001b[0m \u001b[39mdef\u001b[39;00m \u001b[39mfunc_12\u001b[39m(\u001b[39m*\u001b[39ma):\n\u001b[0;32m      <a href='vscode-notebook-cell:/d%3A/python/240120/240120.ipynb#Y136sZmlsZQ%3D%3D?line=1'>2</a>\u001b[0m     \u001b[39mfor\u001b[39;00m i \u001b[39min\u001b[39;00m a:\n\u001b[1;32m----> <a href='vscode-notebook-cell:/d%3A/python/240120/240120.ipynb#Y136sZmlsZQ%3D%3D?line=2'>3</a>\u001b[0m         result \u001b[39m+\u001b[39m\u001b[39m=\u001b[39m i\n\u001b[0;32m      <a href='vscode-notebook-cell:/d%3A/python/240120/240120.ipynb#Y136sZmlsZQ%3D%3D?line=3'>4</a>\u001b[0m         result \u001b[39m/\u001b[39m\u001b[39m=\u001b[39m \u001b[39mlen\u001b[39m(a)\n\u001b[0;32m      <a href='vscode-notebook-cell:/d%3A/python/240120/240120.ipynb#Y136sZmlsZQ%3D%3D?line=4'>5</a>\u001b[0m     \u001b[39mreturn\u001b[39;00m result\n",
      "\u001b[1;31mUnboundLocalError\u001b[0m: cannot access local variable 'result' where it is not associated with a value"
     ]
    }
   ],
   "source": [
    "func_12(1,2,3,4,5,6,7,8,9,10)"
   ]
  },
  {
   "cell_type": "code",
   "execution_count": null,
   "metadata": {},
   "outputs": [],
   "source": [
    "def func_13(*a):\n",
    "    result = sum(a)\n",
    "      result /= len(a)"
   ]
  },
  {
   "cell_type": "code",
   "execution_count": 125,
   "metadata": {},
   "outputs": [],
   "source": [
    "_list = (22,11,33,88)"
   ]
  },
  {
   "cell_type": "code",
   "execution_count": 127,
   "metadata": {},
   "outputs": [
    {
     "name": "stdout",
     "output_type": "stream",
     "text": [
      "22\n",
      "11\n",
      "33\n",
      "88\n"
     ]
    }
   ],
   "source": [
    "for i in range(len(_list)):\n",
    "    print(_list[i])"
   ]
  },
  {
   "cell_type": "code",
   "execution_count": 128,
   "metadata": {},
   "outputs": [
    {
     "name": "stdout",
     "output_type": "stream",
     "text": [
      "22\n",
      "11\n",
      "33\n",
      "88\n"
     ]
    }
   ],
   "source": [
    "for i in _list:\n",
    "    print(i)"
   ]
  },
  {
   "cell_type": "code",
   "execution_count": 129,
   "metadata": {},
   "outputs": [
    {
     "data": {
      "text/plain": [
       "False"
      ]
     },
     "execution_count": 129,
     "metadata": {},
     "output_type": "execute_result"
    }
   ],
   "source": [
    "# in은 연산자 : 비교 연산자 (포함 유무)\n",
    "10 in [11,50,70]"
   ]
  },
  {
   "cell_type": "code",
   "execution_count": 130,
   "metadata": {},
   "outputs": [
    {
     "data": {
      "text/plain": [
       "True"
      ]
     },
     "execution_count": 130,
     "metadata": {},
     "output_type": "execute_result"
    }
   ],
   "source": [
    "11 in [11,50,70]"
   ]
  },
  {
   "cell_type": "code",
   "execution_count": 135,
   "metadata": {},
   "outputs": [
    {
     "data": {
      "text/plain": [
       "22"
      ]
     },
     "execution_count": 135,
     "metadata": {},
     "output_type": "execute_result"
    }
   ],
   "source": [
    "_list= [11,50,70]\n",
    "(11 -- _list[0]) or (11 -- _list[1]) or (11 -- _list[2])"
   ]
  },
  {
   "cell_type": "code",
   "execution_count": 143,
   "metadata": {},
   "outputs": [],
   "source": [
    "# 인자의 개수가 가변이 아닌 형태의 함수를 생성\n",
    "# 매개변수의 자료형 데이터를 인자값으로 입력하는 경우\n",
    "\n",
    "# 자료형 데이터를 입력받아 각 원소들의 제곱된 값을 새로운 리스트로 생성하여 되돌려준다.\n",
    "def func_11(x):\n",
    "    # x는 자료형 데이터가 들어온다.\n",
    "    \n",
    "    # 결과값은 새로운 리스트를 생성하여 값들을 추가\n",
    "    result = []\n",
    "    \n",
    "    # x의 원소들을 하나씩 추출하여 제곱한 뒤 result에 추가\n",
    "    i = 0\n",
    "    while i < len(x):\n",
    "        data = x[i] ** 2\n",
    "        result.append(data)\n",
    "        i += 1\n",
    "        \n",
    "    return result"
   ]
  },
  {
   "cell_type": "code",
   "execution_count": 144,
   "metadata": {},
   "outputs": [
    {
     "name": "stdout",
     "output_type": "stream",
     "text": [
      "[1, 4, 9, 16]\n"
     ]
    }
   ],
   "source": [
    "print(func_11([1,2,3,4]))"
   ]
  },
  {
   "cell_type": "code",
   "execution_count": 145,
   "metadata": {},
   "outputs": [],
   "source": [
    "# map 함수\n",
    "# map({호출할 함수명}, {자료형 데이터})\n",
    "\n",
    "# 일반 함수 생성\n",
    "def change(x):\n",
    "    print(type(x))\n",
    "    result = x ** 2\n",
    "    return result"
   ]
  },
  {
   "cell_type": "code",
   "execution_count": 147,
   "metadata": {},
   "outputs": [
    {
     "name": "stdout",
     "output_type": "stream",
     "text": [
      "<class 'int'>\n",
      "<class 'int'>\n",
      "<class 'int'>\n",
      "<class 'int'>\n"
     ]
    },
    {
     "data": {
      "text/plain": [
       "[1, 4, 9, 16]"
      ]
     },
     "execution_count": 147,
     "metadata": {},
     "output_type": "execute_result"
    }
   ],
   "source": [
    "list(map(\n",
    "    change, [1,2,3,4]\n",
    "))"
   ]
  },
  {
   "cell_type": "code",
   "execution_count": 148,
   "metadata": {},
   "outputs": [
    {
     "data": {
      "text/plain": [
       "[1, 4, 9, 16]"
      ]
     },
     "execution_count": 148,
     "metadata": {},
     "output_type": "execute_result"
    }
   ],
   "source": [
    "# lambda 함수 : 함수를 생성함과 동시에 호출\n",
    "# lambda 매개변수명 : 실행될 코드\n",
    "list(\n",
    "    map(\n",
    "        lambda x : x ** 2, \n",
    "        [1,2,3,4]\n",
    "    )\n",
    ")"
   ]
  },
  {
   "cell_type": "code",
   "execution_count": 150,
   "metadata": {},
   "outputs": [],
   "source": [
    "def change2(a):\n",
    "    result = a ** 2\n",
    "    return result"
   ]
  },
  {
   "cell_type": "code",
   "execution_count": 153,
   "metadata": {},
   "outputs": [
    {
     "name": "stdout",
     "output_type": "stream",
     "text": [
      "[1, 4, 9, 16]\n"
     ]
    }
   ],
   "source": [
    "_list = [1,2,3,4]\n",
    "\n",
    "res = []\n",
    "\n",
    "for i in _list:\n",
    "    # print(i)\n",
    "    res.append(change2(i))\n",
    "print(res)"
   ]
  },
  {
   "cell_type": "code",
   "execution_count": 161,
   "metadata": {},
   "outputs": [
    {
     "name": "stdout",
     "output_type": "stream",
     "text": [
      "index :  0\n",
      "value :  4\n",
      "index :  1\n",
      "value :  3\n",
      "index :  2\n",
      "value :  2\n",
      "index :  3\n",
      "value :  1\n"
     ]
    }
   ],
   "source": [
    "_list = [4,3,2,1]\n",
    "\n",
    "res = []\n",
    "\n",
    "for i in range(0, len(_list), 1):\n",
    "    print(\"index : \", i)\n",
    "    print(\"value : \", _list[i])\n",
    "    "
   ]
  },
  {
   "cell_type": "code",
   "execution_count": 162,
   "metadata": {},
   "outputs": [
    {
     "name": "stdout",
     "output_type": "stream",
     "text": [
      "index :  0\n",
      "value :  ofensive\n",
      "index :  1\n",
      "value :  defence\n",
      "index :  2\n",
      "value :  none\n"
     ]
    }
   ],
   "source": [
    "_list = [\"ofensive\", \"defence\", \"none\"]\n",
    "\n",
    "res = []\n",
    "\n",
    "for i in range(0, len(_list), 1):\n",
    "    print(\"index : \", i)\n",
    "    print(\"value : \", _list[i])\n",
    "    "
   ]
  },
  {
   "cell_type": "code",
   "execution_count": 163,
   "metadata": {},
   "outputs": [
    {
     "name": "stdout",
     "output_type": "stream",
     "text": [
      "[1, 4, 9, 16]\n"
     ]
    }
   ],
   "source": [
    "_list = [1,2,3,4]\n",
    "\n",
    "res = []\n",
    "\n",
    "for i in range(0, len(_list), 1):\n",
    "    data = change2(_list[i])\n",
    "    res.append(data)\n",
    "\n",
    "print(res)"
   ]
  },
  {
   "cell_type": "markdown",
   "metadata": {},
   "source": [
    "### 변수의 종류\n",
    "1. 전역 변수\n",
    "    - 어디서든 사용이 가능한 변수\n",
    "    - 함수의 내부에서나 외부에서 어디서든 사용이 가능\n",
    "2. 지역 변수\n",
    "    - 해당하는 지역에서만 사용이 가능한 변수\n",
    "    - 함수 내부, 클래스 내부에서 생성한 변수들을 지역 변수\n",
    "    - 해당하는 지역에서 벗어나면 사용이 불가능한 휘발성 변수\n",
    "3. 매개 변수\n",
    "    - 함수를 생성할 때 함수 내부에서 사용하는 변수의 이름\n",
    "    - 해당하는 함수에서만 사용이 가능\n",
    "    - 함수 외부에서는 사용이 불가능"
   ]
  },
  {
   "cell_type": "code",
   "execution_count": 164,
   "metadata": {},
   "outputs": [],
   "source": [
    "# 전역변수를 생성\n",
    "\n",
    "test_a = \"Hello\""
   ]
  },
  {
   "cell_type": "code",
   "execution_count": 165,
   "metadata": {},
   "outputs": [
    {
     "name": "stdout",
     "output_type": "stream",
     "text": [
      "Hello\n"
     ]
    }
   ],
   "source": [
    "print(test_a)"
   ]
  },
  {
   "cell_type": "code",
   "execution_count": 170,
   "metadata": {},
   "outputs": [],
   "source": [
    "# 지역 변수 생성\n",
    "def func_12():\n",
    "    func_12_result =\"World\"\n",
    "    print(func_12_result)\n",
    "    print(test_a)\n",
    "    return test_a + func_12_result"
   ]
  },
  {
   "cell_type": "code",
   "execution_count": 171,
   "metadata": {},
   "outputs": [
    {
     "name": "stdout",
     "output_type": "stream",
     "text": [
      "World\n",
      "Hello\n"
     ]
    }
   ],
   "source": [
    "# 새로운 전역변수를 생성\n",
    "test_b = func_12()"
   ]
  },
  {
   "cell_type": "code",
   "execution_count": 172,
   "metadata": {},
   "outputs": [
    {
     "name": "stdout",
     "output_type": "stream",
     "text": [
      "Hello\n",
      "HelloWorld\n"
     ]
    },
    {
     "ename": "NameError",
     "evalue": "name 'func_12_result' is not defined",
     "output_type": "error",
     "traceback": [
      "\u001b[1;31m---------------------------------------------------------------------------\u001b[0m",
      "\u001b[1;31mNameError\u001b[0m                                 Traceback (most recent call last)",
      "\u001b[1;32md:\\python\\240120\\240120.ipynb 셀 74\u001b[0m line \u001b[0;36m3\n\u001b[0;32m      <a href='vscode-notebook-cell:/d%3A/python/240120/240120.ipynb#Y210sZmlsZQ%3D%3D?line=0'>1</a>\u001b[0m \u001b[39mprint\u001b[39m(test_a)\n\u001b[0;32m      <a href='vscode-notebook-cell:/d%3A/python/240120/240120.ipynb#Y210sZmlsZQ%3D%3D?line=1'>2</a>\u001b[0m \u001b[39mprint\u001b[39m(test_b)\n\u001b[1;32m----> <a href='vscode-notebook-cell:/d%3A/python/240120/240120.ipynb#Y210sZmlsZQ%3D%3D?line=2'>3</a>\u001b[0m \u001b[39mprint\u001b[39m(func_12_result)\n",
      "\u001b[1;31mNameError\u001b[0m: name 'func_12_result' is not defined"
     ]
    }
   ],
   "source": [
    "print(test_a)\n",
    "print(test_b)\n",
    "print(func_12_result)"
   ]
  },
  {
   "cell_type": "code",
   "execution_count": 174,
   "metadata": {},
   "outputs": [],
   "source": [
    "def func_13(input_a, input_b):\n",
    "    result = input_a + input_b\n",
    "    return result"
   ]
  },
  {
   "cell_type": "code",
   "execution_count": 175,
   "metadata": {},
   "outputs": [
    {
     "name": "stdout",
     "output_type": "stream",
     "text": [
      "15\n"
     ]
    }
   ],
   "source": [
    "test_c = func_13(10,5)\n",
    "print(test_c)"
   ]
  },
  {
   "cell_type": "code",
   "execution_count": null,
   "metadata": {},
   "outputs": [],
   "source": []
  }
 ],
 "metadata": {
  "kernelspec": {
   "display_name": "Python 3",
   "language": "python",
   "name": "python3"
  },
  "language_info": {
   "codemirror_mode": {
    "name": "ipython",
    "version": 3
   },
   "file_extension": ".py",
   "mimetype": "text/x-python",
   "name": "python",
   "nbconvert_exporter": "python",
   "pygments_lexer": "ipython3",
   "version": "3.12.1"
  }
 },
 "nbformat": 4,
 "nbformat_minor": 2
}
