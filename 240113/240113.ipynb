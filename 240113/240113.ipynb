{
 "cells": [
  {
   "cell_type": "code",
   "execution_count": 27,
   "metadata": {},
   "outputs": [],
   "source": [
    "# 주석\n",
    "# 주석의 의미는 코드를 설명"
   ]
  },
  {
   "cell_type": "code",
   "execution_count": 28,
   "metadata": {},
   "outputs": [
    {
     "name": "stdout",
     "output_type": "stream",
     "text": [
      "10\n",
      "<class 'int'>\n",
      "test\n",
      "<class 'str'>\n"
     ]
    }
   ],
   "source": [
    "# 변수를 생성\n",
    "# 변수명 = 데이터값\n",
    "\n",
    "a = 10\n",
    "b = \"test\"\n",
    "# a 변수를 출력\n",
    "print(a)\n",
    "# a의 데이터 타입을 출력\n",
    "print(type(a))\n",
    "# b 변수를 출력\n",
    "print(b)\n",
    "# b의 데이터의 타입을 출력\n",
    "print(type(b))"
   ]
  },
  {
   "cell_type": "code",
   "execution_count": 29,
   "metadata": {},
   "outputs": [
    {
     "name": "stdout",
     "output_type": "stream",
     "text": [
      "<class 'bool'>\n"
     ]
    }
   ],
   "source": [
    "# bool 데이터형태 : 참(True) / 거짓(False)\n",
    "# 비교연산자를 이용할때 데이터의 값\n",
    "a = True\n",
    "\n",
    "print(type(a))"
   ]
  },
  {
   "cell_type": "code",
   "execution_count": 30,
   "metadata": {},
   "outputs": [
    {
     "name": "stdout",
     "output_type": "stream",
     "text": [
      "<class 'float'>\n"
     ]
    }
   ],
   "source": [
    "# 실수 형태의 데이터\n",
    "b = 3.14\n",
    "\n",
    "print(type(b))"
   ]
  },
  {
   "cell_type": "code",
   "execution_count": 31,
   "metadata": {},
   "outputs": [],
   "source": [
    "# 여러개의 변수를 동시에 지정\n",
    "a = b = c = 10\n",
    "d, e, f = 3, 3.14, 'test'"
   ]
  },
  {
   "cell_type": "code",
   "execution_count": 32,
   "metadata": {},
   "outputs": [
    {
     "name": "stdout",
     "output_type": "stream",
     "text": [
      "10\n",
      "10\n",
      "10\n"
     ]
    }
   ],
   "source": [
    "print(a)\n",
    "print(b)\n",
    "print(c)"
   ]
  },
  {
   "cell_type": "code",
   "execution_count": 33,
   "metadata": {},
   "outputs": [
    {
     "name": "stdout",
     "output_type": "stream",
     "text": [
      "3\n",
      "3.14\n",
      "test\n"
     ]
    }
   ],
   "source": [
    "print(d)\n",
    "print(e)\n",
    "print(f)"
   ]
  },
  {
   "cell_type": "code",
   "execution_count": 34,
   "metadata": {},
   "outputs": [
    {
     "name": "stdout",
     "output_type": "stream",
     "text": [
      "10\n",
      "4\n",
      "21\n",
      "2.3333333333333335\n",
      "2\n",
      "1\n",
      "343\n"
     ]
    }
   ],
   "source": [
    "# 산술 연산자 : 사칙연산\n",
    "a = 7\n",
    "b = 3\n",
    "# 덧셈\n",
    "print(a + b)\n",
    "# 뺼셈\n",
    "print(a - b)\n",
    "# 곱셈\n",
    "print(a * b)\n",
    "# 나눗셈\n",
    "print(a / b)\n",
    "# 나눗셈(몫)\n",
    "print(a // b)\n",
    "# 나눗셈(나머지)\n",
    "print(a % b)\n",
    "# 제곱\n",
    "print(a ** b)"
   ]
  },
  {
   "cell_type": "code",
   "execution_count": 35,
   "metadata": {},
   "outputs": [
    {
     "name": "stdout",
     "output_type": "stream",
     "text": [
      "13\n",
      "20\n"
     ]
    }
   ],
   "source": [
    "# 산술 연산자 우선순위\n",
    "# *,/ 먼저 실행 +,- 실행 -> 일반적인 사칙연산과 동일\n",
    "c = 2\n",
    "print(a + b * c)\n",
    "print( (a + b) * c)"
   ]
  },
  {
   "cell_type": "code",
   "execution_count": 36,
   "metadata": {},
   "outputs": [
    {
     "name": "stdout",
     "output_type": "stream",
     "text": [
      "5\n",
      "10\n"
     ]
    }
   ],
   "source": [
    "# 대입 연산자\n",
    "# 산술연산자 뒤에 =을 붙인 연산자\n",
    "\n",
    "a = 5\n",
    "print(a)\n",
    "# a = a + 5\n",
    "a += 5\n",
    "print(a)\n"
   ]
  },
  {
   "cell_type": "code",
   "execution_count": 37,
   "metadata": {},
   "outputs": [
    {
     "name": "stdout",
     "output_type": "stream",
     "text": [
      "7\n"
     ]
    }
   ],
   "source": [
    "a -= 3\n",
    "print(a)"
   ]
  },
  {
   "cell_type": "code",
   "execution_count": 38,
   "metadata": {},
   "outputs": [
    {
     "name": "stdout",
     "output_type": "stream",
     "text": [
      "35\n"
     ]
    }
   ],
   "source": [
    "a *= 5\n",
    "print(a)"
   ]
  },
  {
   "cell_type": "code",
   "execution_count": 39,
   "metadata": {},
   "outputs": [
    {
     "name": "stdout",
     "output_type": "stream",
     "text": [
      "False\n",
      "True\n",
      "False\n",
      "True\n"
     ]
    }
   ],
   "source": [
    "# 비교 연산자를 이용해서 나온 논리값들을 논리 연산자로 묶여서 표현\n",
    "a = 25\n",
    "print(a >= 30)\n",
    "print(a <= 30)\n",
    "print(a == 30)\n",
    "print(a != 30) "
   ]
  },
  {
   "cell_type": "code",
   "execution_count": 40,
   "metadata": {},
   "outputs": [
    {
     "name": "stdout",
     "output_type": "stream",
     "text": [
      "True\n",
      "True\n",
      "True\n",
      "False\n"
     ]
    }
   ],
   "source": [
    "a = 30\n",
    "print(a >= 30)\n",
    "print(a <= 30)\n",
    "print(a == 30)\n",
    "print(a != 30) "
   ]
  },
  {
   "cell_type": "code",
   "execution_count": 41,
   "metadata": {},
   "outputs": [
    {
     "name": "stdout",
     "output_type": "stream",
     "text": [
      "True\n",
      "False\n",
      "False\n",
      "True\n"
     ]
    }
   ],
   "source": [
    "a = 35\n",
    "print(a >= 30)\n",
    "print(a <= 30)\n",
    "print(a == 30)\n",
    "print(a != 30) "
   ]
  },
  {
   "cell_type": "code",
   "execution_count": 43,
   "metadata": {},
   "outputs": [
    {
     "name": "stdout",
     "output_type": "stream",
     "text": [
      "True\n",
      "True\n",
      "True\n",
      "False\n"
     ]
    }
   ],
   "source": [
    "a = 30\n",
    "print(a >= 30)\n",
    "print(a <= 30)\n",
    "print(a == 30)\n",
    "print(a != 30) "
   ]
  },
  {
   "cell_type": "code",
   "execution_count": 44,
   "metadata": {},
   "outputs": [
    {
     "name": "stdout",
     "output_type": "stream",
     "text": [
      "True\n",
      "True\n"
     ]
    }
   ],
   "source": [
    "# and 연산자 : 두개의 논리값이 모두 참인 경우 참을 출력, 나머지는 모두 거짓\n",
    "print( (a> 20) and (a < 50) )\n",
    "print( a > 20 & a < 50 )\n"
   ]
  },
  {
   "cell_type": "code",
   "execution_count": 47,
   "metadata": {},
   "outputs": [
    {
     "name": "stdout",
     "output_type": "stream",
     "text": [
      "True\n",
      "True\n"
     ]
    }
   ],
   "source": [
    "# or 연산자\n",
    "print ( (a < 50 ) or (a > 30) )\n",
    "print ( a < 50 | a > 30 )"
   ]
  },
  {
   "cell_type": "code",
   "execution_count": 48,
   "metadata": {},
   "outputs": [
    {
     "name": "stdout",
     "output_type": "stream",
     "text": [
      "True\n",
      "False\n"
     ]
    }
   ],
   "source": [
    "# not 부정 연산자\n",
    "a = True\n",
    "\n",
    "print(a)\n",
    "print(not(a))"
   ]
  },
  {
   "cell_type": "markdown",
   "metadata": {},
   "source": [
    "# 제목1\n",
    "## 제목2\n",
    "### 제목3"
   ]
  },
  {
   "cell_type": "markdown",
   "metadata": {},
   "source": [
    "비순서형 리스트\n",
    "- 리스트1\n",
    "- 리스트2\n",
    "- 리스트3\n",
    "    - 서브리스트1\n",
    "    - 서브리스트2"
   ]
  },
  {
   "cell_type": "markdown",
   "metadata": {},
   "source": [
    "순서형 리스트\n",
    "1. 리스트1\n",
    "3. 리스트2\n",
    "5. 리스트3\n",
    "    1. 서브리스트1\n",
    "    2. 서브리스트2"
   ]
  },
  {
   "cell_type": "markdown",
   "metadata": {},
   "source": [
    "### 조건문 (if문)\n",
    "- if 뒤의 조건식이 참인 경우 코드를 실행한다.\n",
    "- 거짓일때 실행할 코드는 else 구문에 코드를 작성한다.\n",
    "- 조건식이 여러개인 경우에는 elif 조건식을 이용하여 조건식을 작성하고 실행 할 코드를 작성한다."
   ]
  },
  {
   "cell_type": "code",
   "execution_count": 61,
   "metadata": {},
   "outputs": [
    {
     "name": "stdout",
     "output_type": "stream",
     "text": [
      "프로그램 종료\n"
     ]
    }
   ],
   "source": [
    "# 기본적인 if문\n",
    "a = 11\n",
    "\n",
    "if a < 10 :\n",
    "    # 조건식이 참인 경우 실행 할 코드\n",
    "    print('a는 10보다 작다')\n",
    "\n",
    "print('프로그램 종료')"
   ]
  },
  {
   "cell_type": "code",
   "execution_count": 62,
   "metadata": {},
   "outputs": [
    {
     "name": "stdout",
     "output_type": "stream",
     "text": [
      "a는 10보다 크거나 작다.\n",
      "프로그램 종료\n"
     ]
    }
   ],
   "source": [
    "# if ~ else문\n",
    "a = 20\n",
    "\n",
    "if a < 10:\n",
    "    # 참인 경우 실행할 코드\n",
    "    print('a는 10보다 작다')\n",
    "else:\n",
    "    # 조건식이 거짓인 경우 실행 할 코드\n",
    "    print('a는 10보다 크거나 작다.')\n",
    "\n",
    "print('프로그램 종료')"
   ]
  },
  {
   "cell_type": "code",
   "execution_count": 67,
   "metadata": {},
   "outputs": [
    {
     "name": "stdout",
     "output_type": "stream",
     "text": [
      "82\n",
      "B학점\n",
      "프로그램 종료\n"
     ]
    }
   ],
   "source": [
    "# 조건식이 여러개인 if문인 경우\n",
    "score = int(input('점수를 입력하시오'))\n",
    "print(score)\n",
    "\n",
    "if score >= 90:\n",
    "    # score가 90점 이상인 경우\n",
    "    print('A학점')\n",
    "elif score >= 80:\n",
    "    # score가 80점 이상인 경우 & score가 90점 미만인 경우\n",
    "    print('B학점')\n",
    "elif score >= 70:\n",
    "    # score가 70점 이상인 경우 & score가 80점 미만인 경우\n",
    "    print('C학점')\n",
    "else:\n",
    "    # 위에 조건식들이 모두 거짓이라면\n",
    "    print('F학점')\n",
    "\n",
    "print('프로그램 종료')\n"
   ]
  },
  {
   "cell_type": "code",
   "execution_count": 75,
   "metadata": {},
   "outputs": [
    {
     "name": "stdout",
     "output_type": "stream",
     "text": [
      "로그인 성공\n",
      "로그인 성공\n"
     ]
    }
   ],
   "source": [
    "input_id = input('아이디를 입력하시오')\n",
    "input_pass = input('패스워드를 입력하시오')\n",
    "\n",
    "# 조건식이 2개를 모두 만족해야되는 경우\n",
    "if input_id == 'test':\n",
    "    if input_pass == '1234':\n",
    "        print('로그인 성공')\n",
    "    else:\n",
    "        print('로그인 실패')\n",
    "else:\n",
    "    print('로그인 실패')\n",
    "if (input_id == 'test') and (input_pass == '1234'):\n",
    "    print('로그인 성공')\n",
    "else:\n",
    "    print('로그인 실패')"
   ]
  },
  {
   "cell_type": "code",
   "execution_count": 78,
   "metadata": {},
   "outputs": [
    {
     "name": "stdout",
     "output_type": "stream",
     "text": [
      "<class 'str'>\n",
      "x가 존재한다.\n"
     ]
    }
   ],
   "source": [
    "x = \"a\"\n",
    "print(type(x))\n",
    "if x:\n",
    "    print('x가 존재한다.')\n",
    "else:\n",
    "    print('x가 존재하지 않는다.')"
   ]
  },
  {
   "cell_type": "code",
   "execution_count": 80,
   "metadata": {},
   "outputs": [
    {
     "name": "stdout",
     "output_type": "stream",
     "text": [
      "거짓\n"
     ]
    }
   ],
   "source": [
    "y = 0\n",
    "\n",
    "if y:\n",
    "    print('참')\n",
    "else:\n",
    "    print('거짓')"
   ]
  },
  {
   "cell_type": "code",
   "execution_count": 81,
   "metadata": {},
   "outputs": [],
   "source": [
    "# 1은 True, 0은 False"
   ]
  },
  {
   "cell_type": "markdown",
   "metadata": {},
   "source": [
    "## 반복문\n",
    "- for문\n",
    "    - range(시작값, 종료값, 증가값)\n",
    "        - 시작값부터 종료값이 되기 전까지 증가값만큼 증가시키면서 반복\n",
    "    - 자료형 데이터의 개수만큼 반복 실행\n",
    "- while문\n",
    "    - 초기값을 지정하고 해당하는 초기값을 조건식과 비교하여 거짓이 될때까지 반복"
   ]
  },
  {
   "cell_type": "code",
   "execution_count": 82,
   "metadata": {},
   "outputs": [
    {
     "name": "stdout",
     "output_type": "stream",
     "text": [
      "range(1, 10)\n",
      "[1, 2, 3, 4, 5, 6, 7, 8, 9]\n"
     ]
    }
   ],
   "source": [
    "# range(시작값, 종료값, 증가값)\n",
    "a = range(1, 10, 1)\n",
    "print(a)\n",
    "print(list(a))"
   ]
  },
  {
   "cell_type": "code",
   "execution_count": 83,
   "metadata": {},
   "outputs": [
    {
     "name": "stdout",
     "output_type": "stream",
     "text": [
      "1\n",
      "2\n",
      "3\n",
      "4\n",
      "5\n",
      "6\n",
      "7\n",
      "8\n",
      "9\n"
     ]
    }
   ],
   "source": [
    "# for문의 기본 형태\n",
    "for i in range(1, 10, 1):\n",
    "    print(i)"
   ]
  },
  {
   "cell_type": "code",
   "execution_count": 89,
   "metadata": {},
   "outputs": [
    {
     "name": "stdout",
     "output_type": "stream",
     "text": [
      "10\n",
      "20\n",
      "30\n",
      "40\n",
      "80\n"
     ]
    }
   ],
   "source": [
    "# for + list\n",
    "_list = [10, 20, 30, 40, 80]\n",
    "\n",
    "for i in _list:\n",
    "    print(i)"
   ]
  },
  {
   "cell_type": "code",
   "execution_count": 100,
   "metadata": {},
   "outputs": [
    {
     "name": "stdout",
     "output_type": "stream",
     "text": [
      "80\n",
      "list[80]\n"
     ]
    }
   ],
   "source": [
    "a = range(0, 100, 10)\n",
    "print(i)\n",
    "print(list[i])"
   ]
  },
  {
   "cell_type": "code",
   "execution_count": 94,
   "metadata": {},
   "outputs": [
    {
     "name": "stdout",
     "output_type": "stream",
     "text": [
      "(1, 'hello')\n",
      "(3, 3.14)\n"
     ]
    }
   ],
   "source": [
    "# 튜플\n",
    "# 자료형 데이터중 가장 기본적인 데이터의 형태\n",
    "# 데이터들을 수정하거나 삭제가 불가능\n",
    "a = (1, 'hello')\n",
    "b = (3, 3.14)\n",
    "print(a)\n",
    "print(b)"
   ]
  },
  {
   "cell_type": "code",
   "execution_count": 95,
   "metadata": {},
   "outputs": [
    {
     "name": "stdout",
     "output_type": "stream",
     "text": [
      "1\n",
      "hello\n"
     ]
    }
   ],
   "source": [
    "print(a[0])\n",
    "print(a[1])"
   ]
  },
  {
   "cell_type": "code",
   "execution_count": 97,
   "metadata": {},
   "outputs": [
    {
     "name": "stdout",
     "output_type": "stream",
     "text": [
      "(1, 'hello', 3, 3.14)\n",
      "(1, 'hello', 1, 'hello', 1, 'hello')\n",
      "(1, 'hello', 1, 'hello', 1, 'hello')\n"
     ]
    }
   ],
   "source": [
    "# 튜플의 합\n",
    "print(a + b)\n",
    "\n",
    "\n",
    "print(a * 3)\n",
    "print(a + a + a)\n"
   ]
  },
  {
   "cell_type": "code",
   "execution_count": 117,
   "metadata": {},
   "outputs": [],
   "source": [
    "# 리스트 데이터 형태\n",
    "# 튜플과는 다르게 안에 있는 데이터를 수정 삭제 추가 가능\n",
    "a_list = [20, 10, 50, 22]\n",
    "b_list = [10, 20, 30, 40]"
   ]
  },
  {
   "cell_type": "code",
   "execution_count": 118,
   "metadata": {},
   "outputs": [
    {
     "name": "stdout",
     "output_type": "stream",
     "text": [
      "[10, 20, 22, 50]\n"
     ]
    }
   ],
   "source": [
    "# sort( : 리스트의 원소들을 오름차순 정렬 변경)\n",
    "a_list.sort()\n",
    "print(a_list)"
   ]
  },
  {
   "cell_type": "code",
   "execution_count": 119,
   "metadata": {},
   "outputs": [
    {
     "name": "stdout",
     "output_type": "stream",
     "text": [
      "[50, 22, 20, 10]\n"
     ]
    }
   ],
   "source": [
    "# 내림차순 정렬로 변경\n",
    "a_list.sort()\n",
    "# revers() : 순서를 역순으로 변경\n",
    "a_list.reverse()\n",
    "print(a_list)\n"
   ]
  },
  {
   "cell_type": "code",
   "execution_count": 120,
   "metadata": {},
   "outputs": [
    {
     "name": "stdout",
     "output_type": "stream",
     "text": [
      "[50, 22, 20, 10]\n"
     ]
    }
   ],
   "source": [
    "a_list.sort(reverse=True)\n",
    "print(a_list)\n"
   ]
  },
  {
   "cell_type": "code",
   "execution_count": 121,
   "metadata": {},
   "outputs": [
    {
     "name": "stdout",
     "output_type": "stream",
     "text": [
      "[40, 30, 20, 10]\n"
     ]
    }
   ],
   "source": [
    "b_list.reverse()\n",
    "print(b_list)\n"
   ]
  },
  {
   "cell_type": "code",
   "execution_count": 122,
   "metadata": {},
   "outputs": [
    {
     "name": "stdout",
     "output_type": "stream",
     "text": [
      "[40, 30, 20, 10, 55]\n"
     ]
    }
   ],
   "source": [
    "# append() : 리스테에 가장 마지막에 원소를 추가\n",
    "b_list.append(55)\n",
    "print(b_list)\n"
   ]
  },
  {
   "cell_type": "code",
   "execution_count": 123,
   "metadata": {},
   "outputs": [
    {
     "name": "stdout",
     "output_type": "stream",
     "text": [
      "[50, 22, 20]\n"
     ]
    }
   ],
   "source": [
    "# pop() : 리스트에서 가장 마지막의 항목을 제거\n",
    "a_list.pop()\n",
    "print(a_list)\n"
   ]
  },
  {
   "cell_type": "code",
   "execution_count": 124,
   "metadata": {},
   "outputs": [
    {
     "name": "stdout",
     "output_type": "stream",
     "text": [
      "[22, 20]\n"
     ]
    }
   ],
   "source": [
    "# del -> 특정 위치의 데이터를 제거\n",
    "del a_list[0]\n",
    "print(a_list)"
   ]
  },
  {
   "cell_type": "code",
   "execution_count": 125,
   "metadata": {},
   "outputs": [
    {
     "name": "stdout",
     "output_type": "stream",
     "text": [
      "2\n"
     ]
    }
   ],
   "source": [
    "# len( : 리스트의 길이를 출력)\n",
    "print(len(a_list))\n"
   ]
  },
  {
   "cell_type": "code",
   "execution_count": 126,
   "metadata": {},
   "outputs": [
    {
     "name": "stdout",
     "output_type": "stream",
     "text": [
      "[22, 20]\n"
     ]
    }
   ],
   "source": [
    "# copy() : 리스트를 복사한다.\n",
    "c_list = a_list\n",
    "print(c_list)"
   ]
  },
  {
   "cell_type": "code",
   "execution_count": 127,
   "metadata": {},
   "outputs": [
    {
     "name": "stdout",
     "output_type": "stream",
     "text": [
      "[22, 20, 10]\n"
     ]
    }
   ],
   "source": [
    "a_list.append(10)\n",
    "print(a_list)\n"
   ]
  },
  {
   "cell_type": "code",
   "execution_count": 128,
   "metadata": {},
   "outputs": [
    {
     "name": "stdout",
     "output_type": "stream",
     "text": [
      "[22, 20, 10]\n"
     ]
    }
   ],
   "source": [
    "print(c_list)"
   ]
  },
  {
   "cell_type": "code",
   "execution_count": 130,
   "metadata": {},
   "outputs": [
    {
     "name": "stdout",
     "output_type": "stream",
     "text": [
      "[22, 20, 10]\n"
     ]
    }
   ],
   "source": [
    "d_list = a_list.copy()\n",
    "print(d_list)\n"
   ]
  },
  {
   "cell_type": "code",
   "execution_count": 131,
   "metadata": {},
   "outputs": [
    {
     "name": "stdout",
     "output_type": "stream",
     "text": [
      "[22, 20]\n",
      "[22, 20]\n",
      "[22, 20, 10]\n"
     ]
    }
   ],
   "source": [
    "a_list.pop()\n",
    "print(a_list)\n",
    "print(c_list)\n",
    "print(d_list)\n"
   ]
  },
  {
   "cell_type": "code",
   "execution_count": 160,
   "metadata": {},
   "outputs": [
    {
     "name": "stdout",
     "output_type": "stream",
     "text": [
      "[]\n"
     ]
    }
   ],
   "source": [
    "# 리스트 특징\n",
    "# 리스트는 원소의 개수가 0개부터 생성\n",
    "\n",
    "# 비어있는 리시트를 생성\n",
    "result = []\n",
    "print(result)"
   ]
  },
  {
   "cell_type": "code",
   "execution_count": 161,
   "metadata": {},
   "outputs": [
    {
     "name": "stdout",
     "output_type": "stream",
     "text": [
      "[10]\n"
     ]
    }
   ],
   "source": [
    "result.append(10)\n",
    "print(result)\n"
   ]
  },
  {
   "cell_type": "code",
   "execution_count": 162,
   "metadata": {},
   "outputs": [
    {
     "name": "stdout",
     "output_type": "stream",
     "text": [
      "[3, 6, 9, 12, 15, 18, 21, 24, 27, 30, 33, 36, 39, 42, 45, 48, 51, 54, 57, 60, 63, 66, 69, 72, 75, 78, 81, 84, 87, 90, 93, 96, 99]\n"
     ]
    }
   ],
   "source": [
    "# 1부터 100까지의 숫자중에 3의 배수만 따로 리스트로 출력\n",
    "\n",
    "# 비어있는 리시트를 생성\n",
    "result = []\n",
    "\n",
    "# 1부터 100까지 반복을 하는 반복문을 생성\n",
    "for i in range(1, 101, 1) :\n",
    "    # 3의 배수 조건문을 작성\n",
    "    if i % 3 == 0:\n",
    "        # 조건식이 참이라면 비어있는 리스트에 i를 추가\n",
    "        result.append(i)\n",
    "print(result)\n"
   ]
  },
  {
   "cell_type": "code",
   "execution_count": 163,
   "metadata": {},
   "outputs": [
    {
     "name": "stdout",
     "output_type": "stream",
     "text": [
      "[3, 6, 9, 12, 15, 18, 21, 24, 27, 30, 33, 36, 39, 42, 45, 48, 51, 54, 57, 60, 63, 66, 69, 72, 75, 78, 81, 84, 87, 90, 93, 96, 99]\n"
     ]
    }
   ],
   "source": [
    "result = []\n",
    "\n",
    "for i in range(1, 34, 1) :\n",
    "    result.append(i*3)\n",
    "\n",
    "print(result)\n"
   ]
  },
  {
   "cell_type": "code",
   "execution_count": 164,
   "metadata": {},
   "outputs": [
    {
     "name": "stdout",
     "output_type": "stream",
     "text": [
      "[3, 6, 9, 12, 15, 18, 21, 24, 27, 30, 33, 36, 39, 42, 45, 48, 51, 54, 57, 60, 63, 66, 69, 72, 75, 78, 81, 84, 87, 90, 93, 96, 99]\n"
     ]
    }
   ],
   "source": [
    "result = []\n",
    "\n",
    "for i in range(3, 101, 3) :\n",
    "    result.append(i)\n",
    "\n",
    "print(result)"
   ]
  },
  {
   "cell_type": "code",
   "execution_count": 178,
   "metadata": {},
   "outputs": [
    {
     "name": "stdout",
     "output_type": "stream",
     "text": [
      "1\n",
      "2\n",
      "3\n",
      "4\n",
      "5\n"
     ]
    }
   ],
   "source": [
    "# whlie문\n",
    "\n",
    "i = 0\n",
    "\n",
    "while i < 5:\n",
    "    # print(i)\n",
    "    # i = i + 1\n",
    "    i += 1\n",
    "    print(i)"
   ]
  },
  {
   "cell_type": "code",
   "execution_count": 168,
   "metadata": {},
   "outputs": [
    {
     "name": "stdout",
     "output_type": "stream",
     "text": [
      "55\n"
     ]
    }
   ],
   "source": [
    "# 1부터 10까지의 합계\n",
    "\n",
    "# 합계라는 초기값을 0으로 지정\n",
    "result = 0\n",
    "\n",
    "# 1부터 10까지 반복을 하는 반복문 생성\n",
    "for i in range(1, 11, 1):\n",
    "    # result에 i의 값을 누적 합\n",
    "    result = result + i\n",
    "print(result)"
   ]
  },
  {
   "cell_type": "code",
   "execution_count": 169,
   "metadata": {},
   "outputs": [
    {
     "name": "stdout",
     "output_type": "stream",
     "text": [
      "55\n"
     ]
    }
   ],
   "source": [
    "result = 0\n",
    "i = 1\n",
    "\n",
    "while i <= 10:\n",
    "    result += i\n",
    "    i += 1\n",
    "\n",
    "print(result)\n"
   ]
  },
  {
   "cell_type": "code",
   "execution_count": 170,
   "metadata": {},
   "outputs": [
    {
     "name": "stdout",
     "output_type": "stream",
     "text": [
      "1\n",
      "2\n",
      "3\n",
      "4\n"
     ]
    }
   ],
   "source": [
    "# continue문 : 반복문으로 되돌아간다\n",
    "# break 문 : 반복문을 강제로 종료\n",
    "\n",
    "for i in range(1, 10, 1):\n",
    "    if i == 5:\n",
    "        break\n",
    "    print(i)"
   ]
  },
  {
   "cell_type": "code",
   "execution_count": 171,
   "metadata": {},
   "outputs": [
    {
     "name": "stdout",
     "output_type": "stream",
     "text": [
      "1\n",
      "2\n"
     ]
    }
   ],
   "source": [
    "i = 1\n",
    "\n",
    "while i <= 1000000:\n",
    "    if i == 3:\n",
    "        break\n",
    "    print(i)\n",
    "    i += 1"
   ]
  },
  {
   "cell_type": "code",
   "execution_count": 172,
   "metadata": {},
   "outputs": [
    {
     "name": "stdout",
     "output_type": "stream",
     "text": [
      "3\n",
      "4\n",
      "5\n",
      "6\n",
      "7\n",
      "8\n",
      "9\n"
     ]
    }
   ],
   "source": [
    "for i in range(1, 10, 1):\n",
    "    if i < 3:\n",
    "        continue\n",
    "    print(i)"
   ]
  },
  {
   "cell_type": "code",
   "execution_count": 173,
   "metadata": {},
   "outputs": [
    {
     "name": "stdout",
     "output_type": "stream",
     "text": [
      "1\n",
      "2\n",
      "3\n"
     ]
    }
   ],
   "source": [
    "for i in range(1, 10, 1):\n",
    "    if i > 3:\n",
    "        continue\n",
    "    print(i)"
   ]
  },
  {
   "cell_type": "code",
   "execution_count": 177,
   "metadata": {},
   "outputs": [
    {
     "name": "stdout",
     "output_type": "stream",
     "text": [
      "1 4\n",
      "2 3\n",
      "3 2\n",
      "4 1\n"
     ]
    }
   ],
   "source": [
    "# 다중 for문\n",
    "# 두개의 주사위의 합이 5인 경우를 모두 출력하시오\n",
    "\n",
    "# 첫번째 주사위의 경우의 수 : 반복문으로 생성\n",
    "for i in range(1, 7, 1):\n",
    "    # 두번째 주사위의 경우의 수\n",
    "    for j in range(1, 7, 1):\n",
    "        # print(i,j)\n",
    "        if i + j == 5:\n",
    "            print(i, j)"
   ]
  },
  {
   "cell_type": "code",
   "execution_count": null,
   "metadata": {},
   "outputs": [],
   "source": []
  }
 ],
 "metadata": {
  "kernelspec": {
   "display_name": "Python 3",
   "language": "python",
   "name": "python3"
  },
  "language_info": {
   "codemirror_mode": {
    "name": "ipython",
    "version": 3
   },
   "file_extension": ".py",
   "mimetype": "text/x-python",
   "name": "python",
   "nbconvert_exporter": "python",
   "pygments_lexer": "ipython3",
   "version": "3.11.3"
  }
 },
 "nbformat": 4,
 "nbformat_minor": 2
}
