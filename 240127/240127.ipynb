{
 "cells": [
  {
   "cell_type": "markdown",
   "metadata": {},
   "source": [
    "### class 선언\n",
    "- class 키워드를 이용하여 클래스 선언\n",
    "- class의 이름은 일반적으로 첫글자는 대문자로 표기\n",
    "\n",
    "### class 생성\n",
    "- 선언문이 된 class를 변수 이용하여 class를 저장\n",
    "\n",
    "### class 안에 존재하는 변수, 함수를 호출\n",
    "-class 내부에 저장되어 있는 변수, 함수를 호출"
   ]
  },
  {
   "cell_type": "code",
   "execution_count": 3,
   "metadata": {},
   "outputs": [],
   "source": [
    "# class 선언\n",
    "class Class_1:\n",
    "    # 특수 함수(생성자 함수) : class가 생성이 될때 자동적으로 한번만 실행\n",
    "    # 함수명은 '__init__' 클래스 안에서 객체(self) 변수를 생성할 때 사용\n",
    "    def __init__(self, input_x, input_y):\n",
    "        # self 변수를 생성\n",
    "        self.x = input_x\n",
    "        self.y = input_y"
   ]
  },
  {
   "cell_type": "code",
   "execution_count": 4,
   "metadata": {},
   "outputs": [],
   "source": [
    "# class 생성\n",
    "a_class = Class_1(10, 3)"
   ]
  },
  {
   "cell_type": "code",
   "execution_count": 5,
   "metadata": {},
   "outputs": [
    {
     "name": "stdout",
     "output_type": "stream",
     "text": [
      "<__main__.Class_1 object at 0x0000021DAF0BA570>\n"
     ]
    }
   ],
   "source": [
    "print(a_class)"
   ]
  },
  {
   "cell_type": "code",
   "execution_count": 6,
   "metadata": {},
   "outputs": [
    {
     "name": "stdout",
     "output_type": "stream",
     "text": [
      "10\n",
      "3\n"
     ]
    }
   ],
   "source": [
    "# class 내부에 있는 변수를 호출\n",
    "print(a_class.x)\n",
    "print(a_class.y)"
   ]
  },
  {
   "cell_type": "code",
   "execution_count": 7,
   "metadata": {},
   "outputs": [],
   "source": [
    "b_class = Class_1(20, 1)"
   ]
  },
  {
   "cell_type": "code",
   "execution_count": 8,
   "metadata": {},
   "outputs": [],
   "source": [
    "# class 변수가 존재하는 Class 선언\n",
    "class Class_2:\n",
    "    # class 변수를 생성\n",
    "    user_list = []\n",
    "    # 생성자 함수를 생성\n",
    "    def __init__(self, input_name, input_age):\n",
    "        self.name = input_name\n",
    "        self.age = input_age\n",
    "        # 클래스 변수에 name을 추가\n",
    "        self.user_list.append(input_name)"
   ]
  },
  {
   "cell_type": "code",
   "execution_count": 10,
   "metadata": {},
   "outputs": [],
   "source": [
    "user_1 = Class_2('test', 20)\n",
    "user_2 = Class_2('test2', 30)"
   ]
  },
  {
   "cell_type": "code",
   "execution_count": 11,
   "metadata": {},
   "outputs": [
    {
     "name": "stdout",
     "output_type": "stream",
     "text": [
      "test\n",
      "test2\n"
     ]
    }
   ],
   "source": [
    "print(user_1.name)\n",
    "print(user_2.name)"
   ]
  },
  {
   "cell_type": "code",
   "execution_count": 12,
   "metadata": {},
   "outputs": [
    {
     "name": "stdout",
     "output_type": "stream",
     "text": [
      "['test', 'test2']\n",
      "['test', 'test2']\n"
     ]
    }
   ],
   "source": [
    "print(user_1.user_list)\n",
    "print(user_2.user_list)"
   ]
  },
  {
   "cell_type": "code",
   "execution_count": 13,
   "metadata": {},
   "outputs": [],
   "source": [
    " # class 내부에 함수가 존재하는 class 선언\n",
    "class Class_3:\n",
    "    def __init__(self, input_x, input_y):\n",
    "         self.x = input_x\n",
    "         self.y = input_y\n",
    "    \n",
    "    def add(self):\n",
    "        result = self.x + self.y\n",
    "        return result\n",
    "    \n",
    "    def sub(self):\n",
    "        result = self.x - self.y\n",
    "        return result"
   ]
  },
  {
   "cell_type": "code",
   "execution_count": 14,
   "metadata": {},
   "outputs": [],
   "source": [
    "c_class = Class_3(10, 3)\n",
    "d_class = Class_3(20, 7)"
   ]
  },
  {
   "cell_type": "code",
   "execution_count": 15,
   "metadata": {},
   "outputs": [
    {
     "name": "stdout",
     "output_type": "stream",
     "text": [
      "13\n",
      "27\n"
     ]
    }
   ],
   "source": [
    "print(c_class.add())\n",
    "print(d_class.add())"
   ]
  },
  {
   "cell_type": "code",
   "execution_count": 17,
   "metadata": {},
   "outputs": [
    {
     "name": "stdout",
     "output_type": "stream",
     "text": [
      "7\n",
      "13\n"
     ]
    }
   ],
   "source": [
    "print(c_class.sub())\n",
    "print(d_class.sub())"
   ]
  },
  {
   "cell_type": "code",
   "execution_count": null,
   "metadata": {},
   "outputs": [],
   "source": [
    "# 상속"
   ]
  },
  {
   "cell_type": "markdown",
   "metadata": {},
   "source": [
    "### 상속\n",
    "1. User class 선언\n",
    "    1. 생성자 함수 유저의 이름, 나이, 성별을 매개변수로 받아서 class 안에 self 변수에\n",
    "    저장\n",
    "    2. info() 함수를 생성하여 유저의 정보를 출력하는 함수"
   ]
  },
  {
   "cell_type": "code",
   "execution_count": 24,
   "metadata": {},
   "outputs": [],
   "source": [
    "class User:\n",
    "    # 생성자 함수\n",
    "    def __init__(self, input_name, input_age, input_gender):\n",
    "        self.name = input_name\n",
    "        self.age = input_age\n",
    "        self.gender = input_gender\n",
    "    # info() 함수 생성\n",
    "    def info(self):\n",
    "        result = f\"이름은 {self.name}이고 나이는 {self.age}이며 성별은 {self.gender}입니다\"\n",
    "        return result"
   ]
  },
  {
   "cell_type": "code",
   "execution_count": 28,
   "metadata": {},
   "outputs": [],
   "source": [
    "user1 = User('kim', 20, '남')"
   ]
  },
  {
   "cell_type": "code",
   "execution_count": 26,
   "metadata": {},
   "outputs": [],
   "source": [
    "user2 = User('park', 30, '여')"
   ]
  },
  {
   "cell_type": "code",
   "execution_count": 27,
   "metadata": {},
   "outputs": [
    {
     "name": "stdout",
     "output_type": "stream",
     "text": [
      "이름은 park이고 나이는 30이며 성별은 여입니다\n"
     ]
    }
   ],
   "source": [
    "print(user2.info())"
   ]
  },
  {
   "cell_type": "markdown",
   "metadata": {},
   "source": [
    "- wallet class 선언\n",
    "    1. User class의 기능을 상속\n",
    "    2. 생성자 함수에서는 User class에 있는 생성자함수와 지갑의 정보(잔액), 구매한 물건 리스트 생성\n",
    "    3. work() 함수 생성 : 일의 타입에 따라 지갑의 잔액이 증가하는 함수\n",
    "    4. buy() 함수 생성 : 물품의 종류에 따라 지갑의 잔액이 감소하는 함수"
   ]
  },
  {
   "cell_type": "code",
   "execution_count": 31,
   "metadata": {},
   "outputs": [],
   "source": [
    "class wallet(User):\n",
    "    # 생성자 함수\n",
    "    def __init__(self, input_name, input_age, input_gender, input_balance = 0):\n",
    "        self.balance = input_balance\n",
    "        # 부모클래스 안에 생성자함수를 호출\n",
    "        # 부모클래스 -> super() \n",
    "        super().__init__(input_name, input_age, input_gender)\n",
    "        self.goods = []\n",
    "        \n",
    "    # work() 함수 생성 : 일의 타입에 따라 지갑의 잔액이 증가하는 함수\n",
    "    def work(self, input_type):\n",
    "        # 일의 타입에 따라 잔액의 증가량을 표시\n",
    "        if input_type == '서빙':\n",
    "            self.balance += 3000000\n",
    "        elif input_type =='카페':\n",
    "            self.balance += 2500000\n",
    "        elif input_type == '편의점':\n",
    "            slef.balance += 2000000\n",
    "        else:\n",
    "            return \"일의 타입이 맞지 않습니다\"\n",
    "        result = f\"{input_type}의 일을 하였습니다. 현재 지갑의 잔액은 {self.balance}입니다.\"\n",
    "        return result"
   ]
  },
  {
   "cell_type": "code",
   "execution_count": null,
   "metadata": {},
   "outputs": [],
   "source": []
  }
 ],
 "metadata": {
  "kernelspec": {
   "display_name": "Python 3",
   "language": "python",
   "name": "python3"
  },
  "language_info": {
   "codemirror_mode": {
    "name": "ipython",
    "version": 3
   },
   "file_extension": ".py",
   "mimetype": "text/x-python",
   "name": "python",
   "nbconvert_exporter": "python",
   "pygments_lexer": "ipython3",
   "version": "3.12.1"
  }
 },
 "nbformat": 4,
 "nbformat_minor": 2
}
